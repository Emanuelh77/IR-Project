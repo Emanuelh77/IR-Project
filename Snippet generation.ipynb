{
 "cells": [
  {
   "cell_type": "code",
   "execution_count": null,
   "metadata": {},
   "outputs": [],
   "source": [
    "import ast\n",
    "import math\n",
    "import pandas as pd\n",
    "import nltk\n",
    "from nltk.tokenize import sent_tokenize"
   ]
  },
  {
   "cell_type": "code",
   "execution_count": null,
   "metadata": {},
   "outputs": [],
   "source": []
  },
  {
   "cell_type": "code",
   "execution_count": null,
   "metadata": {},
   "outputs": [],
   "source": [
    "#These are the files used in the code\n",
    "idf = pd.read_csv('idf.csv')\n",
    "max_d = pd.read_csv('max_d.csv')\n",
    "cd = pd.read_csv('/data/ASHLEE/doc_df.csv')\n",
    "index = pd.read_csv('/data/ASHLEE/index.csv')"
   ]
  },
  {
   "cell_type": "code",
   "execution_count": null,
   "metadata": {},
   "outputs": [],
   "source": []
  },
  {
   "cell_type": "code",
   "execution_count": null,
   "metadata": {},
   "outputs": [],
   "source": [
    "#Takes one document and creates a list containint the title a top 3 realted sentence to a given clean query\n",
    "def snippet (doc_id, q):\n",
    "    doc_tfidf = pd.DataFrame()\n",
    "    sent_doc = pd.DataFrame()\n",
    "    cosine_df = pd.DataFrame()\n",
    "    \n",
    "    #Create Frame with TF-IDF for every word in the clean doc\n",
    "    clean_list = ast.literal_eval(cd.clean[doc_id]) \n",
    "    doc_tfidf['words'] = list(set(clean_list))\n",
    "    doc_tfidf['tf-idf'] = [(ast.literal_eval(index.loc[index.word == x, 'doc_freq'].item()).get(0)/ max_d.max_d[0])* idf.loc[idf.word == x, 'idf'].item() for x in doc_tfidf.words]\n",
    "    \n",
    "    #Grab Full doc from corpus, since I dont keep periods\n",
    "    doc = data.loc[cd.index == doc_id, 'content'].item()\n",
    "    \n",
    "    #Tokenize into sentences and clean\n",
    "    sent_doc['sent'] = sent_tokenize(doc)\n",
    "    sent_doc['clean'] = [clean(x) for x in sent_doc.sent]\n",
    "    \n",
    "    #Create vector from query and sentence\n",
    "    cosine = []\n",
    "    for x in sent_doc.clean:\n",
    "        x_set = set(x)\n",
    "        q_set = set(q_c)\n",
    "        vector = x_set.union(q_set)\n",
    "    \n",
    "    #Calculate vectore values for both\n",
    "        q_v = []\n",
    "        s_v = []\n",
    "        for w in vector:\n",
    "            if w in q_set:\n",
    "                q_v.append(doc_tfidf.loc[doc_tfidf.words == w, 'tf-idf'].item())\n",
    "            else:\n",
    "                q_v.append(0)\n",
    "            if w in x_set:\n",
    "                s_v.append(doc_tfidf.loc[doc_tfidf.words == w, 'tf-idf'].item())\n",
    "            else:\n",
    "                s_v.append(0)\n",
    "    \n",
    "    #Calcumate cosine simularity\n",
    "        c = 0\n",
    "        for i in range(len(vector)):\n",
    "            c += q_v[i] * s_v[i]\n",
    "        cosine.append(c / math.sqrt((math.pow(sum(q_v), 2)) * (math.pow(sum(s_v), 2))))\n",
    "    cosine_df['sim'] = cosine\n",
    "    cosine_df = cosine_df.sort_values(by=['sim'], ascending =False).reset_index()\n",
    "    sent_pos = list(result[0:3]['index'])\n",
    "    \n",
    "    #Put together the snippet as a list to return\n",
    "    snip = []\n",
    "    snip.append(data.title[doc_id])\n",
    "    for x in sent_pos:\n",
    "        snip.append(sent_doc.sent[x])\n",
    "    return snip"
   ]
  },
  {
   "cell_type": "code",
   "execution_count": null,
   "metadata": {},
   "outputs": [],
   "source": []
  }
 ],
 "metadata": {
  "kernelspec": {
   "display_name": "Python 3",
   "language": "python",
   "name": "python3"
  },
  "language_info": {
   "codemirror_mode": {
    "name": "ipython",
    "version": 3
   },
   "file_extension": ".py",
   "mimetype": "text/x-python",
   "name": "python",
   "nbconvert_exporter": "python",
   "pygments_lexer": "ipython3",
   "version": "3.7.1"
  }
 },
 "nbformat": 4,
 "nbformat_minor": 2
}
