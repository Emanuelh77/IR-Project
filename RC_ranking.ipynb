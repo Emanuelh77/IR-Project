{
 "cells": [
  {
   "cell_type": "code",
   "execution_count": 1,
   "metadata": {},
   "outputs": [],
   "source": [
    "import pandas as pd\n",
    "import numpy as np\n",
    "import math\n",
    "import json\n",
    "import yaml\n",
    "import operator\n",
    "\n",
    "from itertools import combinations\n",
    "from collections import Counter as ctr\n",
    "\n",
    "from nltk.corpus import stopwords\n",
    "from nltk.stem import WordNetLemmatizer\n",
    "from nltk.tokenize import word_tokenize\n",
    "from nltk.corpus import wordnet"
   ]
  },
  {
   "cell_type": "code",
   "execution_count": 2,
   "metadata": {},
   "outputs": [],
   "source": [
    "idf_df = pd.read_csv('idf.csv')"
   ]
  },
  {
   "cell_type": "code",
   "execution_count": 3,
   "metadata": {},
   "outputs": [
    {
     "data": {
      "text/html": [
       "<div>\n",
       "<style scoped>\n",
       "    .dataframe tbody tr th:only-of-type {\n",
       "        vertical-align: middle;\n",
       "    }\n",
       "\n",
       "    .dataframe tbody tr th {\n",
       "        vertical-align: top;\n",
       "    }\n",
       "\n",
       "    .dataframe thead th {\n",
       "        text-align: right;\n",
       "    }\n",
       "</style>\n",
       "<table border=\"1\" class=\"dataframe\">\n",
       "  <thead>\n",
       "    <tr style=\"text-align: right;\">\n",
       "      <th></th>\n",
       "      <th>Unnamed: 0</th>\n",
       "      <th>word</th>\n",
       "      <th>idf</th>\n",
       "    </tr>\n",
       "  </thead>\n",
       "  <tbody>\n",
       "    <tr>\n",
       "      <th>0</th>\n",
       "      <td>0</td>\n",
       "      <td>cowhide</td>\n",
       "      <td>14.515398</td>\n",
       "    </tr>\n",
       "    <tr>\n",
       "      <th>1</th>\n",
       "      <td>1</td>\n",
       "      <td>porcupine</td>\n",
       "      <td>10.784031</td>\n",
       "    </tr>\n",
       "    <tr>\n",
       "      <th>2</th>\n",
       "      <td>2</td>\n",
       "      <td>untruthfully</td>\n",
       "      <td>15.964705</td>\n",
       "    </tr>\n",
       "    <tr>\n",
       "      <th>3</th>\n",
       "      <td>3</td>\n",
       "      <td>rebooting</td>\n",
       "      <td>14.141583</td>\n",
       "    </tr>\n",
       "    <tr>\n",
       "      <th>4</th>\n",
       "      <td>4</td>\n",
       "      <td>purcell</td>\n",
       "      <td>10.627598</td>\n",
       "    </tr>\n",
       "  </tbody>\n",
       "</table>\n",
       "</div>"
      ],
      "text/plain": [
       "   Unnamed: 0          word        idf\n",
       "0           0       cowhide  14.515398\n",
       "1           1     porcupine  10.784031\n",
       "2           2  untruthfully  15.964705\n",
       "3           3     rebooting  14.141583\n",
       "4           4       purcell  10.627598"
      ]
     },
     "execution_count": 3,
     "metadata": {},
     "output_type": "execute_result"
    }
   ],
   "source": [
    "idf_df.head()"
   ]
  },
  {
   "cell_type": "code",
   "execution_count": 4,
   "metadata": {},
   "outputs": [
    {
     "data": {
      "text/html": [
       "<div>\n",
       "<style scoped>\n",
       "    .dataframe tbody tr th:only-of-type {\n",
       "        vertical-align: middle;\n",
       "    }\n",
       "\n",
       "    .dataframe tbody tr th {\n",
       "        vertical-align: top;\n",
       "    }\n",
       "\n",
       "    .dataframe thead th {\n",
       "        text-align: right;\n",
       "    }\n",
       "</style>\n",
       "<table border=\"1\" class=\"dataframe\">\n",
       "  <thead>\n",
       "    <tr style=\"text-align: right;\">\n",
       "      <th></th>\n",
       "      <th>DocID</th>\n",
       "      <th>max_d</th>\n",
       "    </tr>\n",
       "  </thead>\n",
       "  <tbody>\n",
       "    <tr>\n",
       "      <th>0</th>\n",
       "      <td>0</td>\n",
       "      <td>11</td>\n",
       "    </tr>\n",
       "    <tr>\n",
       "      <th>1</th>\n",
       "      <td>1</td>\n",
       "      <td>3</td>\n",
       "    </tr>\n",
       "    <tr>\n",
       "      <th>2</th>\n",
       "      <td>2</td>\n",
       "      <td>2</td>\n",
       "    </tr>\n",
       "    <tr>\n",
       "      <th>3</th>\n",
       "      <td>3</td>\n",
       "      <td>7</td>\n",
       "    </tr>\n",
       "    <tr>\n",
       "      <th>4</th>\n",
       "      <td>4</td>\n",
       "      <td>5</td>\n",
       "    </tr>\n",
       "  </tbody>\n",
       "</table>\n",
       "</div>"
      ],
      "text/plain": [
       "   DocID  max_d\n",
       "0      0     11\n",
       "1      1      3\n",
       "2      2      2\n",
       "3      3      7\n",
       "4      4      5"
      ]
     },
     "execution_count": 4,
     "metadata": {},
     "output_type": "execute_result"
    }
   ],
   "source": [
    "highest_count_word_df = pd.read_csv('max_d.csv')\n",
    "highest_count_word_df = highest_count_word_df.rename(columns={'Unnamed: 0': 'DocID'})\n",
    "\n",
    "#highest_count_word_df[highest_count_word_df.DocID == 17809]\n",
    "highest_count_word_df.head()"
   ]
  },
  {
   "cell_type": "code",
   "execution_count": 5,
   "metadata": {},
   "outputs": [],
   "source": [
    "df_index = pd.read_csv('index.csv', names=['word', 'frequency'])"
   ]
  },
  {
   "cell_type": "code",
   "execution_count": 6,
   "metadata": {},
   "outputs": [
    {
     "data": {
      "text/html": [
       "<div>\n",
       "<style scoped>\n",
       "    .dataframe tbody tr th:only-of-type {\n",
       "        vertical-align: middle;\n",
       "    }\n",
       "\n",
       "    .dataframe tbody tr th {\n",
       "        vertical-align: top;\n",
       "    }\n",
       "\n",
       "    .dataframe thead th {\n",
       "        text-align: right;\n",
       "    }\n",
       "</style>\n",
       "<table border=\"1\" class=\"dataframe\">\n",
       "  <thead>\n",
       "    <tr style=\"text-align: right;\">\n",
       "      <th></th>\n",
       "      <th>word</th>\n",
       "      <th>frequency</th>\n",
       "    </tr>\n",
       "  </thead>\n",
       "  <tbody>\n",
       "    <tr>\n",
       "      <th>0</th>\n",
       "      <td>cowhide</td>\n",
       "      <td>{29104: 1, 82126: 1, 90797: 9, 108214: 1, 1287...</td>\n",
       "    </tr>\n",
       "    <tr>\n",
       "      <th>1</th>\n",
       "      <td>porcupine</td>\n",
       "      <td>{17809: 2, 19610: 1, 20467: 2, 25916: 12, 2815...</td>\n",
       "    </tr>\n",
       "    <tr>\n",
       "      <th>2</th>\n",
       "      <td>untruthfully</td>\n",
       "      <td>{53136: 1, 123616: 1, 128567: 3, 249592: 1, 25...</td>\n",
       "    </tr>\n",
       "    <tr>\n",
       "      <th>3</th>\n",
       "      <td>rebooting</td>\n",
       "      <td>{29971: 1, 58410: 1, 61198: 1, 64833: 1, 96158...</td>\n",
       "    </tr>\n",
       "    <tr>\n",
       "      <th>4</th>\n",
       "      <td>purcell</td>\n",
       "      <td>{570: 1, 5495: 2, 17002: 1, 17676: 1, 18439: 5...</td>\n",
       "    </tr>\n",
       "  </tbody>\n",
       "</table>\n",
       "</div>"
      ],
      "text/plain": [
       "           word                                          frequency\n",
       "0       cowhide  {29104: 1, 82126: 1, 90797: 9, 108214: 1, 1287...\n",
       "1     porcupine  {17809: 2, 19610: 1, 20467: 2, 25916: 12, 2815...\n",
       "2  untruthfully  {53136: 1, 123616: 1, 128567: 3, 249592: 1, 25...\n",
       "3     rebooting  {29971: 1, 58410: 1, 61198: 1, 64833: 1, 96158...\n",
       "4       purcell  {570: 1, 5495: 2, 17002: 1, 17676: 1, 18439: 5..."
      ]
     },
     "execution_count": 6,
     "metadata": {},
     "output_type": "execute_result"
    }
   ],
   "source": [
    "df_index.head()"
   ]
  },
  {
   "cell_type": "code",
   "execution_count": 9,
   "metadata": {},
   "outputs": [],
   "source": [
    "ws = ['this', 'is', 'a', 'test']\n",
    "\n",
    "co = combinations(ws, len(ws)-1)\n",
    "\n",
    "# for comb in co:\n",
    "#     print(list(comb))\n"
   ]
  },
  {
   "cell_type": "code",
   "execution_count": 68,
   "metadata": {},
   "outputs": [
    {
     "data": {
      "text/html": [
       "<div>\n",
       "<style scoped>\n",
       "    .dataframe tbody tr th:only-of-type {\n",
       "        vertical-align: middle;\n",
       "    }\n",
       "\n",
       "    .dataframe tbody tr th {\n",
       "        vertical-align: top;\n",
       "    }\n",
       "\n",
       "    .dataframe thead th {\n",
       "        text-align: right;\n",
       "    }\n",
       "</style>\n",
       "<table border=\"1\" class=\"dataframe\">\n",
       "  <thead>\n",
       "    <tr style=\"text-align: right;\">\n",
       "      <th></th>\n",
       "      <th>word</th>\n",
       "      <th>frequency</th>\n",
       "    </tr>\n",
       "  </thead>\n",
       "  <tbody>\n",
       "    <tr>\n",
       "      <th>54064</th>\n",
       "      <td>york</td>\n",
       "      <td>{3: 4, 7: 1, 10: 1, 28: 1, 32: 2, 66: 1, 111: ...</td>\n",
       "    </tr>\n",
       "  </tbody>\n",
       "</table>\n",
       "</div>"
      ],
      "text/plain": [
       "       word                                          frequency\n",
       "54064  york  {3: 4, 7: 1, 10: 1, 28: 1, 32: 2, 66: 1, 111: ..."
      ]
     },
     "execution_count": 68,
     "metadata": {},
     "output_type": "execute_result"
    }
   ],
   "source": [
    "df_index[df_index['word']=='york']"
   ]
  },
  {
   "cell_type": "code",
   "execution_count": null,
   "metadata": {},
   "outputs": [],
   "source": []
  },
  {
   "cell_type": "code",
   "execution_count": null,
   "metadata": {},
   "outputs": [],
   "source": []
  },
  {
   "cell_type": "code",
   "execution_count": null,
   "metadata": {},
   "outputs": [],
   "source": []
  },
  {
   "cell_type": "code",
   "execution_count": null,
   "metadata": {},
   "outputs": [],
   "source": []
  },
  {
   "cell_type": "code",
   "execution_count": 7,
   "metadata": {
    "scrolled": true
   },
   "outputs": [],
   "source": [
    "lemmatizer = WordNetLemmatizer()\n",
    "stops = stopwords.words('english')\n",
    "coll_stops = [\"also\", \"first\", \"one\", \"new\", \"year\", \"two\", \"time\", \"state\", \"school\"]\n",
    "stops.extend(coll_stops)\n",
    "\n",
    "def clean(doc):\n",
    "    doc_low = doc.lower().replace(\"–\", \" \")\n",
    "    words = word_tokenize(doc_low)\n",
    "    words = [lemmatizer.lemmatize(w).strip() for w in words if not w in stops and wordnet.synsets(w) and w.isalpha()]\n",
    "    return words"
   ]
  },
  {
   "cell_type": "code",
   "execution_count": 8,
   "metadata": {},
   "outputs": [],
   "source": [
    "#THERE HAS TO BE AT LEAST TWO NONSTOP LEMMATIZED WORDS IN THE QUERY FOR THIS TO WORK\n",
    "#IDEALLY THERE IS 3+ WORDS\n",
    "def get_candidate_resources(query):\n",
    "    clean_query = clean(query)\n",
    "    CR = []\n",
    "    word_key_list = []\n",
    "    if len(clean_query) == 1:\n",
    "        only_word = clean_query[0]    #sw = single word\n",
    "        sw_dict = yaml.load(df_index.loc[df_index.word==only_word, 'frequency'].item())\n",
    "        CR.extend(list(sw_dict.keys()))\n",
    "        if len(CR) > 50:\n",
    "            return CR[:50]\n",
    "        else: return CR\n",
    "    for w in clean_query:\n",
    "        w_dict = yaml.load(df_index.loc[df_index.word==w, 'frequency'].item())\n",
    "        word_key_list.append(list(w_dict.keys()))\n",
    "    CR.extend(set(word_key_list[0]).intersection(*word_key_list[1:]))\n",
    "    if len(clean_query) == 2: #and len(CR) < 50:\n",
    "        if len(CR)>50:\n",
    "            return CR[:50]\n",
    "        else: return CR\n",
    "#         return CR\n",
    "#         first_word = clean_query[0]\n",
    "#         second_word = clean_query[1]\n",
    "#         first_word_dict = yaml.load(df_index.loc[df_index.word==first_word, 'frequency'].item())\n",
    "#         CR.extend(list(first_word_dict.keys()))\n",
    "#         if len(set(CR))<50:\n",
    "#             second_word_dict = yaml.load(df_index.loc[df_index.word==second_word, 'frequency'].item())\n",
    "#             CR.extend(list(second_word_dict.keys()))\n",
    "#             if len(set(CR)) > 50:\n",
    "#                 return set(CR)[:49]\n",
    "#             else: return set(CR)\n",
    "#         else: return set(CR)\n",
    "    if len(CR)<50:     #if the list of candidate resources is less than 50\n",
    "        combs = combinations(clean_query, len(query)-1)     #use n-1 terms from the query\n",
    "        for comb in list(combs):        #for combination in combinations\n",
    "            word_key_list = []\n",
    "            for w in list(comb):        #for word in n-1 combination\n",
    "                w_dict = yaml.load(df_index.loc[df_index.word==w, 'frequency'].item())\n",
    "                word_key_list.append(list(w_dict.keys()))\n",
    "            CR.extend(set(word_key_list[0]).intersection(*word_key_list[1:])) #find the intersection between all n-1 query terms\n",
    "            CR = set(CR)\n",
    "            if len(set(CR))<50:\n",
    "                continue\n",
    "            elif len(set(CR))>50:\n",
    "                CR = set(CR)[:50]\n",
    "                break\n",
    "            else: break\n",
    "    return CR"
   ]
  },
  {
   "cell_type": "code",
   "execution_count": 9,
   "metadata": {},
   "outputs": [],
   "source": [
    "def idf(w):\n",
    "    idf_value = idf_df.loc[idf_df.word==w, 'idf'].item()\n",
    "    return int(idf_value)"
   ]
  },
  {
   "cell_type": "code",
   "execution_count": 10,
   "metadata": {},
   "outputs": [],
   "source": [
    "def frequency(w,d):\n",
    "    word_freq_dict = yaml.load(df_index.loc[df_index.word==w, 'frequency'].item())\n",
    "    word_freq = word_freq_dict[d]\n",
    "    return int(word_freq)"
   ]
  },
  {
   "cell_type": "code",
   "execution_count": 11,
   "metadata": {},
   "outputs": [],
   "source": [
    "def term_freq(w,d):\n",
    "    max_showing_word = int(highest_count_word_df.loc[highest_count_word_df.DocID==d, 'max_d'].item())\n",
    "    return frequency(w,d)/max_showing_word"
   ]
  },
  {
   "cell_type": "code",
   "execution_count": 12,
   "metadata": {},
   "outputs": [],
   "source": [
    "# def relevance_ranking(q, cand_resources):\n",
    "#     clean_query = clean(q)\n",
    "#     rel_docs = {}\n",
    "#     for d in cand_resources:\n",
    "#         rel_score = 0\n",
    "#         for word in clean_query:\n",
    "#             result = term_freq(word,d) * idf(word)\n",
    "#             rel_score += result\n",
    "#         rel_docs[d] = rel_score\n",
    "#     sorted_rel_docs = sorted(rel_docs.items(), key=operator.itemgetter(1), reverse=True)\n",
    "#     results = [i[0] for i in sorted_rel_docs[:5]]\n",
    "#     return results"
   ]
  },
  {
   "cell_type": "code",
   "execution_count": 13,
   "metadata": {},
   "outputs": [],
   "source": [
    "def relevance_ranking(q, cand_resources):\n",
    "    clean_query = clean(q)\n",
    "    rel_docs = {}\n",
    "    for d in cand_resources:\n",
    "        rel_score = 0\n",
    "        if len(clean_query)==1:\n",
    "            w = clean_query[0]\n",
    "            result = term_freq(w,d) * idf(w)\n",
    "            rel_docs[d] = result\n",
    "        else:\n",
    "            for word in clean_query:\n",
    "                result = term_freq(word,d) * idf(word)\n",
    "                rel_score += result\n",
    "            rel_docs[d] = rel_score\n",
    "    sorted_rel_docs = sorted(rel_docs.items(), key=operator.itemgetter(1), reverse=True)\n",
    "    results = [i[0] for i in sorted_rel_docs[:5]]\n",
    "    return sorted_rel_docs"
   ]
  },
  {
   "cell_type": "code",
   "execution_count": 21,
   "metadata": {
    "scrolled": true
   },
   "outputs": [],
   "source": [
    "q = \"beautiful dogs love\"\n",
    "r = get_candidate_resources(q)"
   ]
  },
  {
   "cell_type": "code",
   "execution_count": null,
   "metadata": {
    "scrolled": true
   },
   "outputs": [],
   "source": []
  },
  {
   "cell_type": "code",
   "execution_count": 22,
   "metadata": {},
   "outputs": [],
   "source": [
    "#pass_to_query_suggestions = relevance_ranking(q, r)"
   ]
  },
  {
   "cell_type": "code",
   "execution_count": 23,
   "metadata": {
    "scrolled": true
   },
   "outputs": [],
   "source": [
    "#pass_to_query_suggestions"
   ]
  },
  {
   "cell_type": "code",
   "execution_count": null,
   "metadata": {},
   "outputs": [],
   "source": []
  },
  {
   "cell_type": "code",
   "execution_count": null,
   "metadata": {
    "scrolled": true
   },
   "outputs": [],
   "source": []
  },
  {
   "cell_type": "code",
   "execution_count": null,
   "metadata": {},
   "outputs": [],
   "source": []
  },
  {
   "cell_type": "code",
   "execution_count": null,
   "metadata": {
    "scrolled": true
   },
   "outputs": [],
   "source": []
  },
  {
   "cell_type": "code",
   "execution_count": null,
   "metadata": {},
   "outputs": [],
   "source": []
  },
  {
   "cell_type": "code",
   "execution_count": null,
   "metadata": {},
   "outputs": [],
   "source": []
  },
  {
   "cell_type": "code",
   "execution_count": null,
   "metadata": {},
   "outputs": [],
   "source": []
  }
 ],
 "metadata": {
  "kernelspec": {
   "display_name": "Python 3",
   "language": "python",
   "name": "python3"
  },
  "language_info": {
   "codemirror_mode": {
    "name": "ipython",
    "version": 3
   },
   "file_extension": ".py",
   "mimetype": "text/x-python",
   "name": "python",
   "nbconvert_exporter": "python",
   "pygments_lexer": "ipython3",
   "version": "3.6.8"
  }
 },
 "nbformat": 4,
 "nbformat_minor": 2
}
