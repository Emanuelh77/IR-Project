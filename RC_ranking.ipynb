{
 "cells": [
  {
   "cell_type": "code",
   "execution_count": 23,
   "metadata": {},
   "outputs": [],
   "source": [
    "import pandas as pd\n",
    "import numpy as np\n",
    "import math\n",
    "import json\n",
    "import yaml\n",
    "import operator\n",
    "\n",
    "from itertools import combinations\n",
    "from collections import Counter as ctr\n",
    "\n",
    "from nltk.corpus import stopwords\n",
    "from nltk.stem import WordNetLemmatizer\n",
    "from nltk.tokenize import word_tokenize\n",
    "from nltk.corpus import wordnet"
   ]
  },
  {
   "cell_type": "code",
   "execution_count": 8,
   "metadata": {},
   "outputs": [],
   "source": [
    "idf_df = pd.read_csv('idf.csv')"
   ]
  },
  {
   "cell_type": "code",
   "execution_count": 9,
   "metadata": {},
   "outputs": [
    {
     "data": {
      "text/html": [
       "<div>\n",
       "<style scoped>\n",
       "    .dataframe tbody tr th:only-of-type {\n",
       "        vertical-align: middle;\n",
       "    }\n",
       "\n",
       "    .dataframe tbody tr th {\n",
       "        vertical-align: top;\n",
       "    }\n",
       "\n",
       "    .dataframe thead th {\n",
       "        text-align: right;\n",
       "    }\n",
       "</style>\n",
       "<table border=\"1\" class=\"dataframe\">\n",
       "  <thead>\n",
       "    <tr style=\"text-align: right;\">\n",
       "      <th></th>\n",
       "      <th>Unnamed: 0</th>\n",
       "      <th>word</th>\n",
       "      <th>idf</th>\n",
       "    </tr>\n",
       "  </thead>\n",
       "  <tbody>\n",
       "    <tr>\n",
       "      <th>0</th>\n",
       "      <td>0</td>\n",
       "      <td>cowhide</td>\n",
       "      <td>14.515398</td>\n",
       "    </tr>\n",
       "    <tr>\n",
       "      <th>1</th>\n",
       "      <td>1</td>\n",
       "      <td>porcupine</td>\n",
       "      <td>10.784031</td>\n",
       "    </tr>\n",
       "    <tr>\n",
       "      <th>2</th>\n",
       "      <td>2</td>\n",
       "      <td>untruthfully</td>\n",
       "      <td>15.964705</td>\n",
       "    </tr>\n",
       "    <tr>\n",
       "      <th>3</th>\n",
       "      <td>3</td>\n",
       "      <td>rebooting</td>\n",
       "      <td>14.141583</td>\n",
       "    </tr>\n",
       "    <tr>\n",
       "      <th>4</th>\n",
       "      <td>4</td>\n",
       "      <td>purcell</td>\n",
       "      <td>10.627598</td>\n",
       "    </tr>\n",
       "  </tbody>\n",
       "</table>\n",
       "</div>"
      ],
      "text/plain": [
       "   Unnamed: 0          word        idf\n",
       "0           0       cowhide  14.515398\n",
       "1           1     porcupine  10.784031\n",
       "2           2  untruthfully  15.964705\n",
       "3           3     rebooting  14.141583\n",
       "4           4       purcell  10.627598"
      ]
     },
     "execution_count": 9,
     "metadata": {},
     "output_type": "execute_result"
    }
   ],
   "source": [
    "idf_df.head()"
   ]
  },
  {
   "cell_type": "code",
   "execution_count": 10,
   "metadata": {},
   "outputs": [
    {
     "data": {
      "text/html": [
       "<div>\n",
       "<style scoped>\n",
       "    .dataframe tbody tr th:only-of-type {\n",
       "        vertical-align: middle;\n",
       "    }\n",
       "\n",
       "    .dataframe tbody tr th {\n",
       "        vertical-align: top;\n",
       "    }\n",
       "\n",
       "    .dataframe thead th {\n",
       "        text-align: right;\n",
       "    }\n",
       "</style>\n",
       "<table border=\"1\" class=\"dataframe\">\n",
       "  <thead>\n",
       "    <tr style=\"text-align: right;\">\n",
       "      <th></th>\n",
       "      <th>DocID</th>\n",
       "      <th>max_d</th>\n",
       "    </tr>\n",
       "  </thead>\n",
       "  <tbody>\n",
       "    <tr>\n",
       "      <th>0</th>\n",
       "      <td>0</td>\n",
       "      <td>11</td>\n",
       "    </tr>\n",
       "    <tr>\n",
       "      <th>1</th>\n",
       "      <td>1</td>\n",
       "      <td>3</td>\n",
       "    </tr>\n",
       "    <tr>\n",
       "      <th>2</th>\n",
       "      <td>2</td>\n",
       "      <td>2</td>\n",
       "    </tr>\n",
       "    <tr>\n",
       "      <th>3</th>\n",
       "      <td>3</td>\n",
       "      <td>7</td>\n",
       "    </tr>\n",
       "    <tr>\n",
       "      <th>4</th>\n",
       "      <td>4</td>\n",
       "      <td>5</td>\n",
       "    </tr>\n",
       "  </tbody>\n",
       "</table>\n",
       "</div>"
      ],
      "text/plain": [
       "   DocID  max_d\n",
       "0      0     11\n",
       "1      1      3\n",
       "2      2      2\n",
       "3      3      7\n",
       "4      4      5"
      ]
     },
     "execution_count": 10,
     "metadata": {},
     "output_type": "execute_result"
    }
   ],
   "source": [
    "highest_count_word_df = pd.read_csv('max_d.csv')\n",
    "highest_count_word_df = highest_count_word_df.rename(columns={'Unnamed: 0': 'DocID'})\n",
    "\n",
    "#highest_count_word_df[highest_count_word_df.DocID == 17809]\n",
    "highest_count_word_df.head()"
   ]
  },
  {
   "cell_type": "code",
   "execution_count": 11,
   "metadata": {},
   "outputs": [],
   "source": [
    "df_index = pd.read_csv('index.csv', names=['word', 'frequency'])"
   ]
  },
  {
   "cell_type": "code",
   "execution_count": 12,
   "metadata": {},
   "outputs": [
    {
     "data": {
      "text/html": [
       "<div>\n",
       "<style scoped>\n",
       "    .dataframe tbody tr th:only-of-type {\n",
       "        vertical-align: middle;\n",
       "    }\n",
       "\n",
       "    .dataframe tbody tr th {\n",
       "        vertical-align: top;\n",
       "    }\n",
       "\n",
       "    .dataframe thead th {\n",
       "        text-align: right;\n",
       "    }\n",
       "</style>\n",
       "<table border=\"1\" class=\"dataframe\">\n",
       "  <thead>\n",
       "    <tr style=\"text-align: right;\">\n",
       "      <th></th>\n",
       "      <th>word</th>\n",
       "      <th>frequency</th>\n",
       "    </tr>\n",
       "  </thead>\n",
       "  <tbody>\n",
       "    <tr>\n",
       "      <th>0</th>\n",
       "      <td>cowhide</td>\n",
       "      <td>{29104: 1, 82126: 1, 90797: 9, 108214: 1, 1287...</td>\n",
       "    </tr>\n",
       "    <tr>\n",
       "      <th>1</th>\n",
       "      <td>porcupine</td>\n",
       "      <td>{17809: 2, 19610: 1, 20467: 2, 25916: 12, 2815...</td>\n",
       "    </tr>\n",
       "    <tr>\n",
       "      <th>2</th>\n",
       "      <td>untruthfully</td>\n",
       "      <td>{53136: 1, 123616: 1, 128567: 3, 249592: 1, 25...</td>\n",
       "    </tr>\n",
       "    <tr>\n",
       "      <th>3</th>\n",
       "      <td>rebooting</td>\n",
       "      <td>{29971: 1, 58410: 1, 61198: 1, 64833: 1, 96158...</td>\n",
       "    </tr>\n",
       "    <tr>\n",
       "      <th>4</th>\n",
       "      <td>purcell</td>\n",
       "      <td>{570: 1, 5495: 2, 17002: 1, 17676: 1, 18439: 5...</td>\n",
       "    </tr>\n",
       "  </tbody>\n",
       "</table>\n",
       "</div>"
      ],
      "text/plain": [
       "           word                                          frequency\n",
       "0       cowhide  {29104: 1, 82126: 1, 90797: 9, 108214: 1, 1287...\n",
       "1     porcupine  {17809: 2, 19610: 1, 20467: 2, 25916: 12, 2815...\n",
       "2  untruthfully  {53136: 1, 123616: 1, 128567: 3, 249592: 1, 25...\n",
       "3     rebooting  {29971: 1, 58410: 1, 61198: 1, 64833: 1, 96158...\n",
       "4       purcell  {570: 1, 5495: 2, 17002: 1, 17676: 1, 18439: 5..."
      ]
     },
     "execution_count": 12,
     "metadata": {},
     "output_type": "execute_result"
    }
   ],
   "source": [
    "df_index.head()"
   ]
  },
  {
   "cell_type": "code",
   "execution_count": 80,
   "metadata": {},
   "outputs": [],
   "source": [
    "ws = ['this', 'is', 'a', 'test']\n",
    "\n",
    "co = combinations(ws, len(ws)-1)\n",
    "\n",
    "# for comb in co:\n",
    "#     print(list(comb))\n"
   ]
  },
  {
   "cell_type": "code",
   "execution_count": null,
   "metadata": {},
   "outputs": [],
   "source": []
  },
  {
   "cell_type": "code",
   "execution_count": null,
   "metadata": {},
   "outputs": [],
   "source": []
  },
  {
   "cell_type": "code",
   "execution_count": null,
   "metadata": {},
   "outputs": [],
   "source": []
  },
  {
   "cell_type": "code",
   "execution_count": null,
   "metadata": {},
   "outputs": [],
   "source": []
  },
  {
   "cell_type": "code",
   "execution_count": null,
   "metadata": {},
   "outputs": [],
   "source": []
  },
  {
   "cell_type": "code",
   "execution_count": 13,
   "metadata": {
    "scrolled": true
   },
   "outputs": [],
   "source": [
    "lemmatizer = WordNetLemmatizer()\n",
    "stops = stopwords.words('english')\n",
    "\n",
    "def clean(doc):\n",
    "    doc_low = doc.lower().replace(\"–\", \" \")\n",
    "    words = word_tokenize(doc_low)\n",
    "    words = [lemmatizer.lemmatize(w).strip() for w in words if not w in stops and wordnet.synsets(w) and w.isalpha()]\n",
    "    return words"
   ]
  },
  {
   "cell_type": "code",
   "execution_count": 14,
   "metadata": {},
   "outputs": [],
   "source": [
    "#THERE HAS TO BE AT LEAST TWO NONSTOP LEMMATIZED WORDS IN THE QUERY FOR THIS TO WORK\n",
    "#IDEALLY THERE IS 3+ WORDS\n",
    "def get_candidate_resources(query):\n",
    "    clean_query = clean(query)\n",
    "    CR = []\n",
    "    all_words_dict = []\n",
    "    for w in clean_query:\n",
    "        w_dict = yaml.load(df_index.loc[df_index.word==w, 'frequency'].item())\n",
    "        all_words_dict.append(list(w_dict.keys()))\n",
    "    CR.extend(set(all_words_dict[0]).intersection(*all_words_dict[1:]))\n",
    "    if len(CR)!=50:\n",
    "        combs = combinations(clean_query, len(query)-1)\n",
    "        for comb in list(combs):\n",
    "            all_words_dict = []\n",
    "            for w in list(comb):\n",
    "                w_dict = yaml.load(df_index.loc[df_index.word==w, 'frequency'].item())\n",
    "                all_words_dict.append(list(w_dict.keys()))\n",
    "            CR.extend(set(all_words_dict[0]).intersection(*all_words_dict[1:]))\n",
    "            if len(set(CR))<50:\n",
    "                continue\n",
    "            elif len(set(CR))>50:\n",
    "                CR = set(CR)[:49]\n",
    "                break\n",
    "            else: break\n",
    "    return CR"
   ]
  },
  {
   "cell_type": "code",
   "execution_count": 15,
   "metadata": {},
   "outputs": [],
   "source": [
    "def idf(w):\n",
    "    idf_value = idf_df.loc[idf_df.word==w, 'idf'].item()\n",
    "    return int(idf_value)"
   ]
  },
  {
   "cell_type": "code",
   "execution_count": 16,
   "metadata": {},
   "outputs": [],
   "source": [
    "def frequency(w,d):\n",
    "    word_freq_dict = yaml.load(df_index.loc[df_index.word==w, 'frequency'].item())\n",
    "    word_freq = word_freq_dict[d]\n",
    "    return int(word_freq)"
   ]
  },
  {
   "cell_type": "code",
   "execution_count": 17,
   "metadata": {},
   "outputs": [],
   "source": [
    "def term_freq(w,d):\n",
    "    max_showing_word = int(highest_count_word_df.loc[highest_count_word_df.DocID==d, 'max_d'].item())\n",
    "    return frequency(w,d)/max_showing_word"
   ]
  },
  {
   "cell_type": "code",
   "execution_count": 18,
   "metadata": {},
   "outputs": [],
   "source": [
    "def relevance_ranking(q, d):\n",
    "    clean_query = clean(q)\n",
    "    rel_score = 0\n",
    "    for word in clean_query:\n",
    "        result = term_freq(word,d) * idf(word)\n",
    "        rel_score += result\n",
    "    return rel_score"
   ]
  },
  {
   "cell_type": "code",
   "execution_count": 19,
   "metadata": {},
   "outputs": [],
   "source": [
    "q = \"Beautiful dogs everywhere love them all\"\n",
    "r = get_candidate_resources(q)"
   ]
  },
  {
   "cell_type": "code",
   "execution_count": 20,
   "metadata": {},
   "outputs": [],
   "source": [
    "rel_docs = {}\n",
    "for resource in r:\n",
    "    rel_docs[resource] = relevance_ranking(q,resource)"
   ]
  },
  {
   "cell_type": "code",
   "execution_count": 21,
   "metadata": {
    "scrolled": true
   },
   "outputs": [
    {
     "data": {
      "text/plain": [
       "{75648: 5.333333333333333,\n",
       " 140289: 0.3116883116883117,\n",
       " 322691: 0.0687593423019432,\n",
       " 1331468: 0.5842696629213483,\n",
       " 125710: 0.37373737373737376,\n",
       " 365198: 0.2764227642276423,\n",
       " 380558: 0.5901639344262295,\n",
       " 192658: 0.05156537753222837,\n",
       " 786323: 0.4137931034482759,\n",
       " 494356: 1.2105263157894737,\n",
       " 979220: 2.0,\n",
       " 253082: 1.2413793103448276,\n",
       " 115354: 0.5291005291005291,\n",
       " 1035935: 0.20702402957486135,\n",
       " 1584927: 0.6557377049180328,\n",
       " 1108903: 0.3446054750402576,\n",
       " 162089: 0.5106382978723404,\n",
       " 718505: 0.13389121338912133,\n",
       " 548907: 0.5918367346938775,\n",
       " 807849: 0.5517241379310345,\n",
       " 1543031: 1.2743362831858407,\n",
       " 132528: 0.8354430379746836,\n",
       " 770993: 0.5660377358490566,\n",
       " 1204402: 1.0444444444444443,\n",
       " 468148: 2.4,\n",
       " 814139: 0.2809917355371901,\n",
       " 340414: 0.9090909090909092,\n",
       " 509886: 0.851063829787234,\n",
       " 1082946: 1.2761904761904763,\n",
       " 822980: 0.5846153846153846,\n",
       " 495942: 1.0,\n",
       " 688970: 1.12,\n",
       " 225873: 1.0632911392405062,\n",
       " 262353: 2.4615384615384617,\n",
       " 202076: 0.4482758620689655,\n",
       " 377438: 0.6611570247933884,\n",
       " 209761: 0.2857142857142857,\n",
       " 135138: 0.5303867403314917,\n",
       " 1658594: 4.4,\n",
       " 481766: 0.1590909090909091,\n",
       " 1077479: 4.142857142857142,\n",
       " 615279: 0.26356589147286824,\n",
       " 392048: 1.0144927536231885,\n",
       " 514418: 1.1794871794871795,\n",
       " 1411829: 1.9166666666666665,\n",
       " 361079: 1.1666666666666665}"
      ]
     },
     "execution_count": 21,
     "metadata": {},
     "output_type": "execute_result"
    }
   ],
   "source": [
    "rel_docs"
   ]
  },
  {
   "cell_type": "code",
   "execution_count": 29,
   "metadata": {},
   "outputs": [],
   "source": [
    "sorted_rel_docs = sorted(rel_docs.items(), key=operator.itemgetter(1), reverse=True)"
   ]
  },
  {
   "cell_type": "code",
   "execution_count": 30,
   "metadata": {
    "scrolled": true
   },
   "outputs": [
    {
     "data": {
      "text/plain": [
       "[(75648, 5.333333333333333),\n",
       " (1658594, 4.4),\n",
       " (1077479, 4.142857142857142),\n",
       " (262353, 2.4615384615384617),\n",
       " (468148, 2.4),\n",
       " (979220, 2.0),\n",
       " (1411829, 1.9166666666666665),\n",
       " (1082946, 1.2761904761904763),\n",
       " (1543031, 1.2743362831858407),\n",
       " (253082, 1.2413793103448276),\n",
       " (494356, 1.2105263157894737),\n",
       " (514418, 1.1794871794871795),\n",
       " (361079, 1.1666666666666665),\n",
       " (688970, 1.12),\n",
       " (225873, 1.0632911392405062),\n",
       " (1204402, 1.0444444444444443),\n",
       " (392048, 1.0144927536231885),\n",
       " (495942, 1.0),\n",
       " (340414, 0.9090909090909092),\n",
       " (509886, 0.851063829787234),\n",
       " (132528, 0.8354430379746836),\n",
       " (377438, 0.6611570247933884),\n",
       " (1584927, 0.6557377049180328),\n",
       " (548907, 0.5918367346938775),\n",
       " (380558, 0.5901639344262295),\n",
       " (822980, 0.5846153846153846),\n",
       " (1331468, 0.5842696629213483),\n",
       " (770993, 0.5660377358490566),\n",
       " (807849, 0.5517241379310345),\n",
       " (135138, 0.5303867403314917),\n",
       " (115354, 0.5291005291005291),\n",
       " (162089, 0.5106382978723404),\n",
       " (202076, 0.4482758620689655),\n",
       " (786323, 0.4137931034482759),\n",
       " (125710, 0.37373737373737376),\n",
       " (1108903, 0.3446054750402576),\n",
       " (140289, 0.3116883116883117),\n",
       " (209761, 0.2857142857142857),\n",
       " (814139, 0.2809917355371901),\n",
       " (365198, 0.2764227642276423),\n",
       " (615279, 0.26356589147286824),\n",
       " (1035935, 0.20702402957486135),\n",
       " (481766, 0.1590909090909091),\n",
       " (718505, 0.13389121338912133),\n",
       " (322691, 0.0687593423019432),\n",
       " (192658, 0.05156537753222837)]"
      ]
     },
     "execution_count": 30,
     "metadata": {},
     "output_type": "execute_result"
    }
   ],
   "source": [
    "sorted_rel_docs"
   ]
  },
  {
   "cell_type": "code",
   "execution_count": 37,
   "metadata": {},
   "outputs": [],
   "source": [
    "results = [i[0] for i in sorted_rel_docs[:5]]"
   ]
  },
  {
   "cell_type": "code",
   "execution_count": 38,
   "metadata": {},
   "outputs": [
    {
     "data": {
      "text/plain": [
       "[75648, 1658594, 1077479, 262353, 468148]"
      ]
     },
     "execution_count": 38,
     "metadata": {},
     "output_type": "execute_result"
    }
   ],
   "source": [
    "results"
   ]
  },
  {
   "cell_type": "code",
   "execution_count": null,
   "metadata": {},
   "outputs": [],
   "source": []
  }
 ],
 "metadata": {
  "kernelspec": {
   "display_name": "Python [conda env:root]",
   "language": "python",
   "name": "conda-root-py"
  },
  "language_info": {
   "codemirror_mode": {
    "name": "ipython",
    "version": 3
   },
   "file_extension": ".py",
   "mimetype": "text/x-python",
   "name": "python",
   "nbconvert_exporter": "python",
   "pygments_lexer": "ipython3",
   "version": "3.7.0"
  }
 },
 "nbformat": 4,
 "nbformat_minor": 2
}
