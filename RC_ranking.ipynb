{
 "cells": [
  {
   "cell_type": "code",
   "execution_count": 4,
   "metadata": {},
   "outputs": [],
   "source": [
    "import pandas as pd\n",
    "import numpy as np\n",
    "\n",
    "from itertools import combinations"
   ]
  },
  {
   "cell_type": "code",
   "execution_count": 2,
   "metadata": {},
   "outputs": [],
   "source": [
    "df = pd.read_csv('100kindex.csv')"
   ]
  },
  {
   "cell_type": "code",
   "execution_count": 3,
   "metadata": {},
   "outputs": [
    {
     "data": {
      "text/html": [
       "<div>\n",
       "<style scoped>\n",
       "    .dataframe tbody tr th:only-of-type {\n",
       "        vertical-align: middle;\n",
       "    }\n",
       "\n",
       "    .dataframe tbody tr th {\n",
       "        vertical-align: top;\n",
       "    }\n",
       "\n",
       "    .dataframe thead th {\n",
       "        text-align: right;\n",
       "    }\n",
       "</style>\n",
       "<table border=\"1\" class=\"dataframe\">\n",
       "  <thead>\n",
       "    <tr style=\"text-align: right;\">\n",
       "      <th></th>\n",
       "      <th>Unnamed: 0</th>\n",
       "      <th>word</th>\n",
       "      <th>DF</th>\n",
       "    </tr>\n",
       "  </thead>\n",
       "  <tbody>\n",
       "    <tr>\n",
       "      <th>0</th>\n",
       "      <td>0</td>\n",
       "      <td>striking</td>\n",
       "      <td>{351: 1, 969: 1, 1111: 1, 3902: 1, 4049: 1, 52...</td>\n",
       "    </tr>\n",
       "    <tr>\n",
       "      <th>1</th>\n",
       "      <td>1</td>\n",
       "      <td>anxiety</td>\n",
       "      <td>{1458: 1, 2235: 1, 5341: 1, 8121: 1, 10582: 1,...</td>\n",
       "    </tr>\n",
       "    <tr>\n",
       "      <th>2</th>\n",
       "      <td>2</td>\n",
       "      <td>ee</td>\n",
       "      <td>{1: 2, 3: 8, 7: 16, 9: 1, 10: 10, 12: 4, 13: 2...</td>\n",
       "    </tr>\n",
       "    <tr>\n",
       "      <th>3</th>\n",
       "      <td>3</td>\n",
       "      <td>forgave</td>\n",
       "      <td>{17495: 3, 22451: 1, 24795: 1, 29181: 1, 29880...</td>\n",
       "    </tr>\n",
       "    <tr>\n",
       "      <th>4</th>\n",
       "      <td>4</td>\n",
       "      <td>kick</td>\n",
       "      <td>{287: 1, 628: 3, 959: 1, 1070: 1, 1589: 1, 164...</td>\n",
       "    </tr>\n",
       "  </tbody>\n",
       "</table>\n",
       "</div>"
      ],
      "text/plain": [
       "   Unnamed: 0      word                                                 DF\n",
       "0           0  striking  {351: 1, 969: 1, 1111: 1, 3902: 1, 4049: 1, 52...\n",
       "1           1   anxiety  {1458: 1, 2235: 1, 5341: 1, 8121: 1, 10582: 1,...\n",
       "2           2        ee  {1: 2, 3: 8, 7: 16, 9: 1, 10: 10, 12: 4, 13: 2...\n",
       "3           3   forgave  {17495: 3, 22451: 1, 24795: 1, 29181: 1, 29880...\n",
       "4           4      kick  {287: 1, 628: 3, 959: 1, 1070: 1, 1589: 1, 164..."
      ]
     },
     "execution_count": 3,
     "metadata": {},
     "output_type": "execute_result"
    }
   ],
   "source": [
    "df.head()"
   ]
  },
  {
   "cell_type": "code",
   "execution_count": null,
   "metadata": {},
   "outputs": [],
   "source": [
    "def get_candidate_resources(query=[]):\n",
    "    CR = []\n",
    "    out = False\n",
    "    count = 0\n",
    "    for doc in docs:\n",
    "        if query in doc:\n",
    "            count += 1\n",
    "            CR.append(doc)\n",
    "        if count == 50:\n",
    "            break\n",
    "    if count<50:\n",
    "        combs = combinations(query, len(query)-1)\n",
    "        for list(c) in list(combs):\n",
    "            for doc in docs:\n",
    "                if c in doc:\n",
    "                    count+=1\n",
    "                    CR.append()"
   ]
  }
 ],
 "metadata": {
  "kernelspec": {
   "display_name": "Python [conda env:root]",
   "language": "python",
   "name": "conda-root-py"
  },
  "language_info": {
   "codemirror_mode": {
    "name": "ipython",
    "version": 3
   },
   "file_extension": ".py",
   "mimetype": "text/x-python",
   "name": "python",
   "nbconvert_exporter": "python",
   "pygments_lexer": "ipython3",
   "version": "3.7.0"
  }
 },
 "nbformat": 4,
 "nbformat_minor": 2
}
