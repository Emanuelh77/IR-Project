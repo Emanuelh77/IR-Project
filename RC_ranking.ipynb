{
 "cells": [
  {
   "cell_type": "code",
   "execution_count": 94,
   "metadata": {},
   "outputs": [],
   "source": [
    "import pandas as pd\n",
    "import numpy as np\n",
    "import math\n",
    "import json\n",
    "import yaml\n",
    "\n",
    "from itertools import combinations\n",
    "from collections import Counter as ctr"
   ]
  },
  {
   "cell_type": "code",
   "execution_count": 95,
   "metadata": {},
   "outputs": [],
   "source": [
    "df = pd.read_csv('100kindex.csv')"
   ]
  },
  {
   "cell_type": "code",
   "execution_count": 96,
   "metadata": {},
   "outputs": [
    {
     "data": {
      "text/html": [
       "<div>\n",
       "<style scoped>\n",
       "    .dataframe tbody tr th:only-of-type {\n",
       "        vertical-align: middle;\n",
       "    }\n",
       "\n",
       "    .dataframe tbody tr th {\n",
       "        vertical-align: top;\n",
       "    }\n",
       "\n",
       "    .dataframe thead th {\n",
       "        text-align: right;\n",
       "    }\n",
       "</style>\n",
       "<table border=\"1\" class=\"dataframe\">\n",
       "  <thead>\n",
       "    <tr style=\"text-align: right;\">\n",
       "      <th></th>\n",
       "      <th>Unnamed: 0</th>\n",
       "      <th>word</th>\n",
       "      <th>DF</th>\n",
       "    </tr>\n",
       "  </thead>\n",
       "  <tbody>\n",
       "    <tr>\n",
       "      <th>0</th>\n",
       "      <td>0</td>\n",
       "      <td>striking</td>\n",
       "      <td>{351: 1, 969: 1, 1111: 1, 3902: 1, 4049: 1, 52...</td>\n",
       "    </tr>\n",
       "    <tr>\n",
       "      <th>1</th>\n",
       "      <td>1</td>\n",
       "      <td>anxiety</td>\n",
       "      <td>{1458: 1, 2235: 1, 5341: 1, 8121: 1, 10582: 1,...</td>\n",
       "    </tr>\n",
       "    <tr>\n",
       "      <th>2</th>\n",
       "      <td>2</td>\n",
       "      <td>ee</td>\n",
       "      <td>{1: 2, 3: 8, 7: 16, 9: 1, 10: 10, 12: 4, 13: 2...</td>\n",
       "    </tr>\n",
       "    <tr>\n",
       "      <th>3</th>\n",
       "      <td>3</td>\n",
       "      <td>forgave</td>\n",
       "      <td>{17495: 3, 22451: 1, 24795: 1, 29181: 1, 29880...</td>\n",
       "    </tr>\n",
       "    <tr>\n",
       "      <th>4</th>\n",
       "      <td>4</td>\n",
       "      <td>kick</td>\n",
       "      <td>{287: 1, 628: 3, 959: 1, 1070: 1, 1589: 1, 164...</td>\n",
       "    </tr>\n",
       "  </tbody>\n",
       "</table>\n",
       "</div>"
      ],
      "text/plain": [
       "   Unnamed: 0      word                                                 DF\n",
       "0           0  striking  {351: 1, 969: 1, 1111: 1, 3902: 1, 4049: 1, 52...\n",
       "1           1   anxiety  {1458: 1, 2235: 1, 5341: 1, 8121: 1, 10582: 1,...\n",
       "2           2        ee  {1: 2, 3: 8, 7: 16, 9: 1, 10: 10, 12: 4, 13: 2...\n",
       "3           3   forgave  {17495: 3, 22451: 1, 24795: 1, 29181: 1, 29880...\n",
       "4           4      kick  {287: 1, 628: 3, 959: 1, 1070: 1, 1589: 1, 164..."
      ]
     },
     "execution_count": 96,
     "metadata": {},
     "output_type": "execute_result"
    }
   ],
   "source": [
    "df.head()"
   ]
  },
  {
   "cell_type": "code",
   "execution_count": 97,
   "metadata": {},
   "outputs": [],
   "source": [
    "def idf(str_dict):\n",
    "    word_dict = yaml.load(str_dict)\n",
    "    N = 1662756\n",
    "    n_w = len(word_dict)\n",
    "    return (math.log(N/n_w,2))"
   ]
  },
  {
   "cell_type": "code",
   "execution_count": 98,
   "metadata": {},
   "outputs": [],
   "source": [
    "df['idf'] = df['DF'].apply(idf)"
   ]
  },
  {
   "cell_type": "code",
   "execution_count": 99,
   "metadata": {},
   "outputs": [
    {
     "data": {
      "text/html": [
       "<div>\n",
       "<style scoped>\n",
       "    .dataframe tbody tr th:only-of-type {\n",
       "        vertical-align: middle;\n",
       "    }\n",
       "\n",
       "    .dataframe tbody tr th {\n",
       "        vertical-align: top;\n",
       "    }\n",
       "\n",
       "    .dataframe thead th {\n",
       "        text-align: right;\n",
       "    }\n",
       "</style>\n",
       "<table border=\"1\" class=\"dataframe\">\n",
       "  <thead>\n",
       "    <tr style=\"text-align: right;\">\n",
       "      <th></th>\n",
       "      <th>Unnamed: 0</th>\n",
       "      <th>word</th>\n",
       "      <th>DF</th>\n",
       "      <th>idf</th>\n",
       "    </tr>\n",
       "  </thead>\n",
       "  <tbody>\n",
       "    <tr>\n",
       "      <th>0</th>\n",
       "      <td>0</td>\n",
       "      <td>striking</td>\n",
       "      <td>{351: 1, 969: 1, 1111: 1, 3902: 1, 4049: 1, 52...</td>\n",
       "      <td>11.734408</td>\n",
       "    </tr>\n",
       "    <tr>\n",
       "      <th>1</th>\n",
       "      <td>1</td>\n",
       "      <td>anxiety</td>\n",
       "      <td>{1458: 1, 2235: 1, 5341: 1, 8121: 1, 10582: 1,...</td>\n",
       "      <td>13.620751</td>\n",
       "    </tr>\n",
       "    <tr>\n",
       "      <th>2</th>\n",
       "      <td>2</td>\n",
       "      <td>ee</td>\n",
       "      <td>{1: 2, 3: 8, 7: 16, 9: 1, 10: 10, 12: 4, 13: 2...</td>\n",
       "      <td>4.836513</td>\n",
       "    </tr>\n",
       "    <tr>\n",
       "      <th>3</th>\n",
       "      <td>3</td>\n",
       "      <td>forgave</td>\n",
       "      <td>{17495: 3, 22451: 1, 24795: 1, 29181: 1, 29880...</td>\n",
       "      <td>15.417218</td>\n",
       "    </tr>\n",
       "    <tr>\n",
       "      <th>4</th>\n",
       "      <td>4</td>\n",
       "      <td>kick</td>\n",
       "      <td>{287: 1, 628: 3, 959: 1, 1070: 1, 1589: 1, 164...</td>\n",
       "      <td>10.572388</td>\n",
       "    </tr>\n",
       "  </tbody>\n",
       "</table>\n",
       "</div>"
      ],
      "text/plain": [
       "   Unnamed: 0      word                                                 DF  \\\n",
       "0           0  striking  {351: 1, 969: 1, 1111: 1, 3902: 1, 4049: 1, 52...   \n",
       "1           1   anxiety  {1458: 1, 2235: 1, 5341: 1, 8121: 1, 10582: 1,...   \n",
       "2           2        ee  {1: 2, 3: 8, 7: 16, 9: 1, 10: 10, 12: 4, 13: 2...   \n",
       "3           3   forgave  {17495: 3, 22451: 1, 24795: 1, 29181: 1, 29880...   \n",
       "4           4      kick  {287: 1, 628: 3, 959: 1, 1070: 1, 1589: 1, 164...   \n",
       "\n",
       "         idf  \n",
       "0  11.734408  \n",
       "1  13.620751  \n",
       "2   4.836513  \n",
       "3  15.417218  \n",
       "4  10.572388  "
      ]
     },
     "execution_count": 99,
     "metadata": {},
     "output_type": "execute_result"
    }
   ],
   "source": [
    "df.head()"
   ]
  },
  {
   "cell_type": "code",
   "execution_count": 103,
   "metadata": {},
   "outputs": [],
   "source": [
    "df.to_csv('complete_index.csv')"
   ]
  },
  {
   "cell_type": "code",
   "execution_count": null,
   "metadata": {},
   "outputs": [],
   "source": []
  },
  {
   "cell_type": "code",
   "execution_count": null,
   "metadata": {},
   "outputs": [],
   "source": []
  },
  {
   "cell_type": "code",
   "execution_count": null,
   "metadata": {},
   "outputs": [],
   "source": []
  },
  {
   "cell_type": "code",
   "execution_count": null,
   "metadata": {},
   "outputs": [],
   "source": []
  },
  {
   "cell_type": "code",
   "execution_count": 7,
   "metadata": {},
   "outputs": [],
   "source": [
    "def frequency(w,d):\n",
    "    return d.count(w)"
   ]
  },
  {
   "cell_type": "code",
   "execution_count": 76,
   "metadata": {},
   "outputs": [],
   "source": [
    "def get_candidate_resources(query=[]):\n",
    "    CR = []\n",
    "    out = False\n",
    "    count = 0\n",
    "    no_repeats = []  #don't want to have the same documents repeated when doing combinations\n",
    "    for doc in docs:\n",
    "        if set(query).issubset(doc):\n",
    "            count += 1\n",
    "            CR.append(doc)\n",
    "            no_repeats.append(doc)\n",
    "        if count == 50:\n",
    "            break\n",
    "    if count<50:\n",
    "        combs = combinations(query, len(query)-1)\n",
    "        for c in list(combs):\n",
    "            for doc in docs:\n",
    "                if doc in no_repeats: continue\n",
    "                if set(c).issubset(doc):\n",
    "                    count+=1\n",
    "                    CR.append(doc)\n",
    "                    no_repeats.append(doc)\n",
    "                if count==50:\n",
    "                    out = True\n",
    "                    break\n",
    "            if out==True: break \n",
    "            else: continue\n",
    "    return CR"
   ]
  },
  {
   "cell_type": "code",
   "execution_count": 8,
   "metadata": {},
   "outputs": [],
   "source": [
    "def term_freq(w,d):\n",
    "    c = ctr(d)\n",
    "    max_showing_word = max(c.values())\n",
    "    return frequency(w,d)/max_showing_word"
   ]
  },
  {
   "cell_type": "code",
   "execution_count": 21,
   "metadata": {},
   "outputs": [],
   "source": [
    "def relevance_ranking(q, d):\n",
    "    rel_score = 0\n",
    "    for word in q:\n",
    "        term_freq(word,d) * idf(w)\n",
    "        rel_score += result\n",
    "    return rel_score"
   ]
  },
  {
   "cell_type": "code",
   "execution_count": 35,
   "metadata": {},
   "outputs": [
    {
     "data": {
      "text/plain": [
       "['i', 'really', 'like', 'dogs']"
      ]
     },
     "execution_count": 35,
     "metadata": {},
     "output_type": "execute_result"
    }
   ],
   "source": [
    "string_query = \"i really like dogs\"\n",
    "query = string_query.split()\n",
    "query"
   ]
  },
  {
   "cell_type": "code",
   "execution_count": 52,
   "metadata": {
    "scrolled": true
   },
   "outputs": [],
   "source": [
    "doc1 = \"dogs are fantastic we all really like dogs who would not like dogs i just love them\"\n",
    "doc1 = doc1.split()\n",
    "\n",
    "doc2 = \"this is a completely and way off document should not appear on CR\"\n",
    "doc2 = doc2.split()\n",
    "\n",
    "doc3 = \"dogs are so amazing, i like them\"\n",
    "doc3 = doc3.split()\n",
    "\n",
    "docs = []\n",
    "docs.extend([doc1, doc2, doc3])\n",
    "#list_of_docs"
   ]
  },
  {
   "cell_type": "code",
   "execution_count": 53,
   "metadata": {},
   "outputs": [],
   "source": [
    "cand_resources = get_candidate_resources(query)"
   ]
  },
  {
   "cell_type": "code",
   "execution_count": 54,
   "metadata": {},
   "outputs": [
    {
     "data": {
      "text/plain": [
       "[['dogs',\n",
       "  'are',\n",
       "  'fantastic',\n",
       "  'we',\n",
       "  'all',\n",
       "  'really',\n",
       "  'like',\n",
       "  'dogs',\n",
       "  'who',\n",
       "  'would',\n",
       "  'not',\n",
       "  'like',\n",
       "  'dogs',\n",
       "  'i',\n",
       "  'just',\n",
       "  'love',\n",
       "  'them'],\n",
       " ['dogs', 'are', 'so', 'amazing,', 'i', 'like', 'them']]"
      ]
     },
     "execution_count": 54,
     "metadata": {},
     "output_type": "execute_result"
    }
   ],
   "source": [
    "cand_resources"
   ]
  },
  {
   "cell_type": "code",
   "execution_count": null,
   "metadata": {},
   "outputs": [],
   "source": [
    "rel_ranking_map = {}\n",
    "for resource in cand_resources:\n",
    "    "
   ]
  },
  {
   "cell_type": "markdown",
   "metadata": {},
   "source": [
    "## I need the results from cand_resources to be the index of the doc and not the doc itself"
   ]
  },
  {
   "cell_type": "code",
   "execution_count": null,
   "metadata": {},
   "outputs": [],
   "source": []
  },
  {
   "cell_type": "code",
   "execution_count": null,
   "metadata": {},
   "outputs": [],
   "source": []
  }
 ],
 "metadata": {
  "kernelspec": {
   "display_name": "Python [conda env:root]",
   "language": "python",
   "name": "conda-root-py"
  },
  "language_info": {
   "codemirror_mode": {
    "name": "ipython",
    "version": 3
   },
   "file_extension": ".py",
   "mimetype": "text/x-python",
   "name": "python",
   "nbconvert_exporter": "python",
   "pygments_lexer": "ipython3",
   "version": "3.7.0"
  }
 },
 "nbformat": 4,
 "nbformat_minor": 2
}
